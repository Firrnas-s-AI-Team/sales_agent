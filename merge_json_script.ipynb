{
 "cells": [
  {
   "cell_type": "code",
   "execution_count": 2,
   "metadata": {},
   "outputs": [
    {
     "name": "stdout",
     "output_type": "stream",
     "text": [
      "Merged JSON saved to merged.json\n"
     ]
    }
   ],
   "source": [
    "import os\n",
    "import json\n",
    "\n",
    "# Corrected folder path using raw string\n",
    "folder_path = r\"C:\\Users\\Abdallah\\Downloads\\Agent_langchain\\DONE_DONE_DONE_DONE_DONE_App\"\n",
    "output_file = \"merged.json\"\n",
    "\n",
    "# List to hold all JSON data\n",
    "merged_data = []\n",
    "\n",
    "# Iterate over all JSON files in the folder\n",
    "for file_name in os.listdir(folder_path):\n",
    "    if file_name.endswith(\".json\"):  # Ensure it's a JSON file\n",
    "        file_path = os.path.join(folder_path, file_name)\n",
    "        \n",
    "        # Read and parse the JSON file\n",
    "        try:\n",
    "            with open(file_path, \"r\", encoding=\"utf-8\") as file:\n",
    "                data = json.load(file)\n",
    "                \n",
    "                # Ensure data is a list before merging\n",
    "                if isinstance(data, list):\n",
    "                    merged_data.extend(data)\n",
    "                else:\n",
    "                    merged_data.append(data)\n",
    "        except Exception as e:\n",
    "            print(f\"Error reading {file_name}: {e}\")\n",
    "\n",
    "# Write the merged data to the output JSON file\n",
    "with open(output_file, \"w\", encoding=\"utf-8\") as output:\n",
    "    json.dump(merged_data, output, indent=4, ensure_ascii=False)\n",
    "\n",
    "print(f\"Merged JSON saved to {output_file}\")\n"
   ]
  },
  {
   "cell_type": "code",
   "execution_count": null,
   "metadata": {},
   "outputs": [],
   "source": []
  }
 ],
 "metadata": {
  "kernelspec": {
   "display_name": "AIsales_env",
   "language": "python",
   "name": "python3"
  },
  "language_info": {
   "codemirror_mode": {
    "name": "ipython",
    "version": 3
   },
   "file_extension": ".py",
   "mimetype": "text/x-python",
   "name": "python",
   "nbconvert_exporter": "python",
   "pygments_lexer": "ipython3",
   "version": "3.9.12"
  }
 },
 "nbformat": 4,
 "nbformat_minor": 2
}
